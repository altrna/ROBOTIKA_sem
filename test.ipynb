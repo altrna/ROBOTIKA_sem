{
 "cells": [
  {
   "cell_type": "code",
   "execution_count": null,
   "metadata": {},
   "outputs": [],
   "source": []
  },
  {
   "cell_type": "code",
   "execution_count": 1,
   "metadata": {},
   "outputs": [
    {
     "ename": "error",
     "evalue": "OpenCV(4.6.0) :-1: error: (-5:Bad argument) in function 'calibrateRobotWorldHandEye'\n> Overload resolution failed:\n>  - calibrateRobotWorldHandEye() missing required argument 'R_world2cam' (pos 1)\n>  - calibrateRobotWorldHandEye() missing required argument 'R_world2cam' (pos 1)\n",
     "output_type": "error",
     "traceback": [
      "\u001b[1;31m---------------------------------------------------------------------------\u001b[0m",
      "\u001b[1;31merror\u001b[0m                                     Traceback (most recent call last)",
      "\u001b[1;32mc:\\Users\\altrn\\Documents\\fifth_semester\\ROB1\\ROBOTIKA_sem\\test.ipynb Cell 2\u001b[0m line \u001b[0;36m3\n\u001b[0;32m      <a href='vscode-notebook-cell:/c%3A/Users/altrn/Documents/fifth_semester/ROB1/ROBOTIKA_sem/test.ipynb#W1sZmlsZQ%3D%3D?line=0'>1</a>\u001b[0m \u001b[39mimport\u001b[39;00m \u001b[39mnumpy\u001b[39;00m \u001b[39mas\u001b[39;00m \u001b[39mnp\u001b[39;00m\n\u001b[0;32m      <a href='vscode-notebook-cell:/c%3A/Users/altrn/Documents/fifth_semester/ROB1/ROBOTIKA_sem/test.ipynb#W1sZmlsZQ%3D%3D?line=1'>2</a>\u001b[0m \u001b[39mimport\u001b[39;00m \u001b[39mcv2\u001b[39;00m\n\u001b[1;32m----> <a href='vscode-notebook-cell:/c%3A/Users/altrn/Documents/fifth_semester/ROB1/ROBOTIKA_sem/test.ipynb#W1sZmlsZQ%3D%3D?line=2'>3</a>\u001b[0m cv2\u001b[39m.\u001b[39;49mcalibrateRobotWorldHandEye()\n\u001b[0;32m      <a href='vscode-notebook-cell:/c%3A/Users/altrn/Documents/fifth_semester/ROB1/ROBOTIKA_sem/test.ipynb#W1sZmlsZQ%3D%3D?line=3'>4</a>\u001b[0m random_configs \u001b[39m=\u001b[39m [np\u001b[39m.\u001b[39mrandom\u001b[39m.\u001b[39mrandom((\u001b[39m3\u001b[39m,)) \u001b[39mfor\u001b[39;00m i \u001b[39min\u001b[39;00m \u001b[39mrange\u001b[39m(\u001b[39m10\u001b[39m)]\n\u001b[0;32m      <a href='vscode-notebook-cell:/c%3A/Users/altrn/Documents/fifth_semester/ROB1/ROBOTIKA_sem/test.ipynb#W1sZmlsZQ%3D%3D?line=4'>5</a>\u001b[0m \u001b[39mprint\u001b[39m(random_configs)\n",
      "\u001b[1;31merror\u001b[0m: OpenCV(4.6.0) :-1: error: (-5:Bad argument) in function 'calibrateRobotWorldHandEye'\n> Overload resolution failed:\n>  - calibrateRobotWorldHandEye() missing required argument 'R_world2cam' (pos 1)\n>  - calibrateRobotWorldHandEye() missing required argument 'R_world2cam' (pos 1)\n"
     ]
    }
   ],
   "source": [
    "import numpy as np\n",
    "import cv2\n",
    "cv2.calibrateRobotWorldHandEye()\n",
    "random_configs = [np.random.random((3,)) for i in range(10)]\n",
    "print(random_configs)\n",
    "ri = np.random.randint(0, len(random_configs), (3,))\n",
    "print(ri)\n",
    "this_array = np.array([1,2,3, *random_configs[ri]])\n",
    "print(this_array)"
   ]
  }
 ],
 "metadata": {
  "kernelspec": {
   "display_name": "Python 3",
   "language": "python",
   "name": "python3"
  },
  "language_info": {
   "codemirror_mode": {
    "name": "ipython",
    "version": 3
   },
   "file_extension": ".py",
   "mimetype": "text/x-python",
   "name": "python",
   "nbconvert_exporter": "python",
   "pygments_lexer": "ipython3",
   "version": "3.10.0"
  }
 },
 "nbformat": 4,
 "nbformat_minor": 2
}
